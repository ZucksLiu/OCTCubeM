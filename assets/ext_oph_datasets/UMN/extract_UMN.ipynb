{
 "cells": [
  {
   "cell_type": "code",
   "execution_count": 1,
   "metadata": {},
   "outputs": [],
   "source": [
    "import numpy as np\n",
    "import matplotlib.pyplot as plt\n",
    "from PIL import Image\n",
    "import os\n",
    "from scipy.io import loadmat\n",
    "import h5py"
   ]
  },
  {
   "cell_type": "code",
   "execution_count": 2,
   "metadata": {},
   "outputs": [
    {
     "name": "stdout",
     "output_type": "stream",
     "text": [
      "dict_keys(['__header__', '__version__', '__globals__', 'AllSubjects', 'ManualFluid1', 'ManualFluid2'])\n"
     ]
    }
   ],
   "source": [
    "a = loadmat('OCT/AMD/UMN_Dataset.mat')\n",
    "print(a.keys())\n"
   ]
  },
  {
   "cell_type": "code",
   "execution_count": 3,
   "metadata": {},
   "outputs": [
    {
     "name": "stdout",
     "output_type": "stream",
     "text": [
      "(1, 24)\n",
      "(1, 24)\n",
      "(496, 1024, 25)\n"
     ]
    }
   ],
   "source": [
    "print(a['AllSubjects'].shape)\n",
    "print(a['ManualFluid1'].shape)\n",
    "print(a['ManualFluid1'][0][0].shape)\n"
   ]
  },
  {
   "cell_type": "code",
   "execution_count": 9,
   "metadata": {},
   "outputs": [],
   "source": [
    "home_dir = 'your_home_dir'\n",
    "output_dir = home_dir + 'OCTCubeM/assets/ext_oph_datasets/UMN/UMN_dataset/image_classification/'\n",
    "\n",
    "import os\n",
    "import SimpleITK as sitk\n",
    "os.makedirs(output_dir, exist_ok=True)\n",
    "\n",
    "# Path to the RETOUCH directory\n",
    "base_directory_path = home_dir + 'OCTCubeM/assets/ext_oph_datasets/UMN/'\n",
    "AMD_file = base_directory_path + 'OCT/AMD/UMN_Dataset.mat'\n",
    "DME_file = base_directory_path + 'OCT/DME/UMNDataset.mat'\n",
    "\n",
    "AMD_mat = loadmat(AMD_file)\n",
    "amd_images = AMD_mat['AllSubjects']\n",
    "amd_masks = AMD_mat['ManualFluid1']\n",
    "\n",
    "DME_mat = loadmat(DME_file)\n",
    "dme_images = DME_mat['AllSubjects']\n",
    "dme_masks = DME_mat['ManualFluid1']\n",
    "dme_masks_2 = DME_mat['ManualFluid2']"
   ]
  },
  {
   "cell_type": "code",
   "execution_count": 12,
   "metadata": {},
   "outputs": [
    {
     "name": "stdout",
     "output_type": "stream",
     "text": [
      "(1, 30) (1, 29) (1, 24) (1, 29) (1, 24) (496, 1024, 25) (496, 1024, 25)\n"
     ]
    }
   ],
   "source": [
    "print(dme_images.shape, dme_masks.shape, amd_masks.shape, dme_masks_2.shape, amd_images.shape, dme_images[0][0].shape, amd_images[0][0].shape)"
   ]
  },
  {
   "attachments": {},
   "cell_type": "markdown",
   "metadata": {},
   "source": [
    "#### Get processed results (two separate tasks)"
   ]
  },
  {
   "cell_type": "code",
   "execution_count": null,
   "metadata": {},
   "outputs": [],
   "source": [
    "disease = 'dme'\n",
    "for i in range(30):\n",
    "    for j in range(25):\n",
    "        img_fname = f'{disease}_oct_{i}_{j}.png'\n",
    "        # mask_fname = f'{disease}_mask_{i}_{j}.png'\n",
    "        # cmask_fname = f'{disease}_cmask_{i}_{j}.png'\n",
    "        img_array = dme_images[0][i][:, :, j]\n",
    "        pil_img = Image.fromarray(img_array, 'L')  \n",
    "        pil_img.save(output_dir + 'DME/' + img_fname)\n",
    "        # mask_array = dme_masks[0][i][:, :, j]\n",
    "        # pil_mask = Image.fromarray(mask_array, 'L')\n",
    "        # pil_mask.save(output_dir + 'DME/' + mask_fname)\n",
    "        # pil_mask = Image.fromarray(mask_array * 255, 'L')\n",
    "        # pil_mask.save(output_dir + 'DME/' + cmask_fname)\n"
   ]
  },
  {
   "cell_type": "code",
   "execution_count": null,
   "metadata": {},
   "outputs": [],
   "source": [
    "disease = 'amd'\n",
    "for i in range(24):\n",
    "    for j in range(25):\n",
    "        img_fname = f'{disease}_oct_{i}_{j}.png'\n",
    "        # mask_fname = f'{disease}_mask_{i}_{j}.png'\n",
    "        # cmask_fname = f'{disease}_cmask_{i}_{j}.png'\n",
    "        img_array = amd_images[0][i][:, :, j]\n",
    "        pil_img = Image.fromarray(img_array, 'L')\n",
    "        pil_img.save(output_dir + 'AMD/' + img_fname)\n",
    "        # mask_array = amd_masks[0][i][:, :, j]\n",
    "        # pil_mask = Image.fromarray(mask_array, 'L')\n",
    "        # pil_mask.save(output_dir + 'AMD/' + mask_fname)\n",
    "        # pil_mask = Image.fromarray(mask_array * 255, 'L')\n",
    "        # pil_mask.save(output_dir + 'AMD/' + cmask_fname)\n"
   ]
  }
 ],
 "metadata": {
  "kernelspec": {
   "display_name": "3.8",
   "language": "python",
   "name": "python3"
  },
  "language_info": {
   "codemirror_mode": {
    "name": "ipython",
    "version": 3
   },
   "file_extension": ".py",
   "mimetype": "text/x-python",
   "name": "python",
   "nbconvert_exporter": "python",
   "pygments_lexer": "ipython3",
   "version": "3.8.10"
  },
  "orig_nbformat": 4
 },
 "nbformat": 4,
 "nbformat_minor": 2
}
